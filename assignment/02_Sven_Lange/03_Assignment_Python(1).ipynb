{
 "cells": [
  {
   "cell_type": "markdown",
   "metadata": {
    "id": "3i7Q6MM_7a82"
   },
   "source": [
    "# Assignment 03\n",
    "#### Python Basics III - Functions and Classes\n",
    "\n",
    "This tutorial was written by Terry L. Ruas (University of Göttingen). The references for external contributors for which this material was anyhow adapted/inspired are in the Acknowledgments section (end of the document)."
   ]
  },
  {
   "cell_type": "markdown",
   "metadata": {
    "id": "eKtTDCOS7a83"
   },
   "source": [
    "This notebook will cover the following tasks:\n",
    "\n",
    "1. Dictionary\n",
    "2. Classes"
   ]
  },
  {
   "cell_type": "markdown",
   "metadata": {
    "id": "XumFInmh7a85"
   },
   "source": [
    "## Task 01 – Dictionary\n",
    "Imagine you have to write a (very simple) bookkeepingsystem for a bank that keeps track of the account balances of each of its customers.\n",
    "1. Write a function that spans a dictionary holding a default balance of 0 for an initial list of customers. For simplicity, assume customer names are unique identifier.  (optional) Can you express that same functionality using a lambda function?\n",
    "2. What are elegant ways to add or remove single and multiple customers using the functionality of dict?\n",
    "3. Now write two simple functions that allow you to deposit and withdraw money for a given bank customer.\n",
    "4. Include error messages for inputs that are not permissible, e.g., withdrawing negative amounts or overdrawing the account, etc."
   ]
  },
  {
   "cell_type": "code",
   "execution_count": null,
   "metadata": {
    "id": "aEr0j2IX7a85"
   },
   "outputs": [],
   "source": [
    "accounts={elem:0 for elem in['a','b','c']}\n",
    "\n",
    "def add_cust(name):\n",
    "    for elem in name:\n",
    "        if elem in accounts.keys():\n",
    "            print('ERR: Name already exists.')\n",
    "            return \n",
    "    accounts=accounts|{n:0 for n in name}\n",
    "    return None\n",
    "\n",
    "def deposit (amount,account):\n",
    "    if amout < 0:\n",
    "        print('ERR: Think about the withdrawl function')\n",
    "    try:\n",
    "        accouts[account]+=amount\n",
    "    except KeyError:\n",
    "        print('Account not available')\n",
    "    return \n",
    "\n",
    "\n",
    "def withdrawl (amount,account):\n",
    "    if amout < 0:\n",
    "        print('ERR: Think about the withdrawl function')\n",
    "    try:\n",
    "        accouts[account]-=amount\n",
    "        if accounts[account]<0:\n",
    "            print('welcome to the dispo zone!')\n",
    "    except KeyError:\n",
    "        print('Account not availble')\n",
    "    return \n"
   ]
  },
  {
   "cell_type": "markdown",
   "metadata": {
    "id": "9tMOI3tn7a86"
   },
   "source": [
    "## Task 02 – Classes\n",
    "The manager thinks that the simple bookkeeping system you have built is not powerful enough. She requests that you start from scratch and use classes instead.\n",
    "1. Write a simple class with appropriate constructor *\\_\\_init\\_\\_* that initializes an object of class *Customer* tracking the same information as in Task 01.\n",
    "2. Now write two simple methods for class *Customer* that allow you to deposit and withdraw money for a given customer object.\n",
    "3. Include error messages for inputs that are not permissible, e.g., withdrawing negative amounts or overdrawing the account.\n",
    "4. (Inheritance) Write a child class *SavingsCustomer* that inherits its features from the parent class *Customer*. A savings customer has an extra savings balance for receiving extra interest. The class should have a method to transfer money back and forth between the accounts' main balance as well as the savings balance. Do not forget to add reasonable error messages."
   ]
  },
  {
   "cell_type": "code",
   "execution_count": 3,
   "metadata": {
    "id": "mcZ6wBOO7a86"
   },
   "outputs": [
    {
     "name": "stdout",
     "output_type": "stream",
     "text": [
      "0\n",
      "84\n",
      "42\n"
     ]
    }
   ],
   "source": [
    "class Customer:\n",
    "    def __init__(self,n):\n",
    "        self.name=n\n",
    "        self.balance=0\n",
    "        return\n",
    "    \n",
    "    def withdrawl(self, amt):\n",
    "        if amt<0:\n",
    "            raise ValueError('No negative Amounts')\n",
    "        elif self.balance-amt<0:\n",
    "            raise ValueError('No dispo allowed')\n",
    "        else:\n",
    "            self.balance-=amt\n",
    "        return \n",
    "    \n",
    "    def deposit(self, amt):\n",
    "        if amt<0:\n",
    "            raise ValueError('No negative Amounts')\n",
    "        else:\n",
    "            self.balance+=amt\n",
    "        return \n",
    "\n",
    "    \n",
    "    \n",
    "class SavingsCustomer(Customer):\n",
    "    \n",
    "    def __init__(self, balance=0, savings_balance=0):\n",
    "        super().__init__(balance)\n",
    "        self.saved_balance = savings_balance\n",
    "\n",
    "\n",
    "    def to_savings(self, amt):\n",
    "        if amt <= self.balance:\n",
    "            self.balance -= amt\n",
    "            self.saved_balance += amt\n",
    "        else:\n",
    "            raise ValueError('Not enough Money available')\n",
    "\n",
    "\n",
    "    def to_main(self, amt):\n",
    "        if amt <= self.saved_balance:\n",
    "            self.saved_balance -= amt\n",
    "            self.balance += amt\n",
    "        else:\n",
    "            raise ValueError('Not enough Money available')\n",
    "    \n",
    "    \n",
    "    \n",
    "    \n",
    "    \n",
    "    \n",
    "c1=Customer('a')\n",
    "print(c1.balance)\n",
    "c1.deposit((2*42))\n",
    "print(c1.balance)\n",
    "c1.withdrawl(42)\n",
    "print(c1.balance)"
   ]
  },
  {
   "cell_type": "code",
   "execution_count": null,
   "metadata": {},
   "outputs": [],
   "source": []
  }
 ],
 "metadata": {
  "colab": {
   "provenance": []
  },
  "kernelspec": {
   "display_name": "Python 3 (ipykernel)",
   "language": "python",
   "name": "python3"
  },
  "language_info": {
   "codemirror_mode": {
    "name": "ipython",
    "version": 3
   },
   "file_extension": ".py",
   "mimetype": "text/x-python",
   "name": "python",
   "nbconvert_exporter": "python",
   "pygments_lexer": "ipython3",
   "version": "3.10.6"
  }
 },
 "nbformat": 4,
 "nbformat_minor": 4
}
