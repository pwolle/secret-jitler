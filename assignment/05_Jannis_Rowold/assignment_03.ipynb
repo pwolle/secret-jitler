{
 "cells": [
  {
   "cell_type": "markdown",
   "metadata": {
    "id": "3i7Q6MM_7a82"
   },
   "source": [
    "# Assignment 03\n",
    "#### Python Basics III - Functions and Classes\n",
    "\n",
    "This tutorial was written by Terry L. Ruas (University of Göttingen). The references for external contributors for which this material was anyhow adapted/inspired are in the Acknowledgments section (end of the document)."
   ]
  },
  {
   "cell_type": "markdown",
   "metadata": {
    "id": "eKtTDCOS7a83"
   },
   "source": [
    "This notebook will cover the following tasks:\n",
    "\n",
    "1. Dictionary\n",
    "2. Classes"
   ]
  },
  {
   "cell_type": "markdown",
   "metadata": {
    "id": "XumFInmh7a85"
   },
   "source": [
    "## Task 01 – Dictionary\n",
    "Imagine you have to write a (very simple) bookkeepingsystem for a bank that keeps track of the account balances of each of its customers.\n",
    "1. Write a function that spans a dictionary holding a default balance of 0 for an initial list of customers. For simplicity, assume customer names are unique identifier.  (optional) Can you express that same functionality using a lambda function?\n",
    "2. What are elegant ways to add or remove single and multiple customers using the functionality of dict?\n",
    "3. Now write two simple functions that allow you to deposit and withdraw money for a given bank customer.\n",
    "4. Include error messages for inputs that are not permissible, e.g., withdrawing negative amounts or overdrawing the account, etc."
   ]
  },
  {
   "cell_type": "code",
   "execution_count": 36,
   "metadata": {
    "id": "aEr0j2IX7a85"
   },
   "outputs": [
    {
     "name": "stdout",
     "output_type": "stream",
     "text": [
      "{'Tom': 0, 'Bert': 0}\n"
     ]
    }
   ],
   "source": [
    "customers=[\"Jannis\",\"Tom\",\"Bert\"]\n",
    "init = lambda x : {customer:0 for customer in x}\n",
    "Bank=init(customers)\n",
    "\n",
    "def delete(customer):\n",
    "    if type(customer)==str:\n",
    "        Bank.pop(customer,None)\n",
    "    else:\n",
    "        for i in customer:\n",
    "            del Bank[i]\n",
    "\n",
    "delete(\"Jannis\")\n",
    "print(Bank)\n",
    "\n",
    "def deposit(customer,value):\n",
    "    if value <0:\n",
    "        print(\"cannot deposite negative\")\n",
    "        return\n",
    "    Bank[customer]+=value\n",
    "    \n",
    "def withdraw(customer,value):\n",
    "    if value <0:\n",
    "        print(\"cannot withdraw negative\")\n",
    "        return\n",
    "    if Bank[customer]<value:\n",
    "        print(\"overdrawing\")\n",
    "        return\n",
    "    Bank[customer]-=value\n"
   ]
  },
  {
   "cell_type": "markdown",
   "metadata": {
    "id": "9tMOI3tn7a86"
   },
   "source": [
    "## Task 02 – Classes\n",
    "The manager thinks that the simple bookkeeping system you have built is not powerful enough. She requests that you start from scratch and use classes instead.\n",
    "1. Write a simple class with appropriate constructor *\\_\\_init\\_\\_* that initializes an object of class *Customer* tracking the same information as in Task 01.\n",
    "2. Now write two simple methods for class *Customer* that allow you to deposit and withdraw money for a given customer object.\n",
    "3. Include error messages for inputs that are not permissible, e.g., withdrawing negative amounts or overdrawing the account.\n",
    "4. (Inheritance) Write a child class *SavingsCustomer* that inherits its features from the parent class *Customer*. A savings customer has an extra savings balance for receiving extra interest. The class should have a method to transfer money back and forth between the accounts' main balance as well as the savings balance. Do not forget to add reasonable error messages."
   ]
  },
  {
   "cell_type": "code",
   "execution_count": 65,
   "metadata": {
    "id": "mcZ6wBOO7a86"
   },
   "outputs": [
    {
     "name": "stdout",
     "output_type": "stream",
     "text": [
      "7\n",
      "3\n",
      "cannot transfer more than balance\n"
     ]
    }
   ],
   "source": [
    "class Customer:\n",
    "    def __init__(self,name):\n",
    "        self.balance=0\n",
    "        self.name=name\n",
    "    def deposit(self,value):\n",
    "        if value <0:\n",
    "            print(\"cannot deposite negative\")\n",
    "            return\n",
    "        self.balance+=value\n",
    "\n",
    "    def withdraw(self,value):\n",
    "        if value <0:\n",
    "            print(\"cannot withdraw negative\")\n",
    "            return\n",
    "        if self.balance<value:\n",
    "            print(\"overdrawing\")\n",
    "            return\n",
    "        self.balance-=value\n",
    "        \n",
    "class SavingsCustomer(Customer):\n",
    "    def __init__(self,name):\n",
    "        super().__init__(name)\n",
    "        self.savings=0\n",
    "    \n",
    "    def deposit(self,value):\n",
    "        super().deposit(value)\n",
    "        \n",
    "    def withdraw(self,value):\n",
    "        super().withdraw(value)\n",
    "        \n",
    "    def transfer_to_savings(self,value):\n",
    "        if value <0:\n",
    "            print(\"cannot transfer negative\")\n",
    "            return\n",
    "        if self.balance<value:\n",
    "            print(\"cannot transfer more than balance\")\n",
    "            return\n",
    "        self.balance-=value\n",
    "        self.savings+=value\n",
    "        \n",
    "    def transfer_from_savings(self,value):\n",
    "        if value <0:\n",
    "            print(\"cannot transfer negative\")\n",
    "            return\n",
    "        if self.balance<value:\n",
    "            print(\"cannot transfer more than savings\")\n",
    "            return\n",
    "        self.savings-=value\n",
    "        self.balance+=value\n",
    "            \n",
    "a=SavingsCustomer(\"Jannis\")\n",
    "a.deposit(10)\n",
    "a.transfer_to_savings(7)\n",
    "print(a.savings)\n",
    "print(a.balance)\n",
    "a.transfer_to_savings(7)"
   ]
  },
  {
   "cell_type": "code",
   "execution_count": null,
   "metadata": {},
   "outputs": [],
   "source": []
  }
 ],
 "metadata": {
  "colab": {
   "provenance": []
  },
  "kernelspec": {
   "display_name": "Python 3 (ipykernel)",
   "language": "python",
   "name": "python3"
  },
  "language_info": {
   "codemirror_mode": {
    "name": "ipython",
    "version": 3
   },
   "file_extension": ".py",
   "mimetype": "text/x-python",
   "name": "python",
   "nbconvert_exporter": "python",
   "pygments_lexer": "ipython3",
   "version": "3.10.6"
  }
 },
 "nbformat": 4,
 "nbformat_minor": 4
}
