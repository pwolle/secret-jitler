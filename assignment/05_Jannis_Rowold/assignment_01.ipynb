{
 "cells": [
  {
   "cell_type": "markdown",
   "metadata": {
    "id": "LZgQdr4W6iKz"
   },
   "source": [
    "# Assignment 01\n",
    "##### Python Basics I\n",
    "\n",
    "This tutorial was written by Terry Ruas (University of Göttingen). The references for external contributors for which this material was anyhow adapted/inspired are in the Acknowledgments section (end of the document).\n"
   ]
  },
  {
   "cell_type": "markdown",
   "metadata": {
    "id": "4GPUv_8U6iK1"
   },
   "source": [
    "## Task 01 – Hello World!\n",
    "Write a simple program that asks the user to input a name and outputs a simple greeting, such as ‘Hi Name! Nice to meet you!’ and in the other line, ‘Welcome to the Programing Course!’. \n",
    "\n",
    "*Hint: Check out the input () and print() function in Python.* "
   ]
  },
  {
   "cell_type": "code",
   "execution_count": 1,
   "metadata": {
    "id": "xt3XV0YD6iK2"
   },
   "outputs": [
    {
     "name": "stdin",
     "output_type": "stream",
     "text": [
      "What is your name? Jannis\n"
     ]
    },
    {
     "name": "stdout",
     "output_type": "stream",
     "text": [
      "Hi  Jannis ! Nice to meet you!\n",
      "Welcome to the Programming Course!\n"
     ]
    }
   ],
   "source": [
    "name = input(\"What is your name?\")\n",
    "print(\"Hi \",name,\"! Nice to meet you!\\nWelcome to the Programming Course!\")\n"
   ]
  },
  {
   "cell_type": "markdown",
   "metadata": {
    "id": "_Jz4T4AQ6iK3"
   },
   "source": [
    "## Task 02 – Reversed Words\n",
    "Write a program that reads in a word provided by the user and prints the word in a reversed order. For example, if the input is hello, the output should be ‘olleh’. \n",
    "\n",
    "- Use a loop structure \n",
    "- Use just array indexes \n"
   ]
  },
  {
   "cell_type": "code",
   "execution_count": 2,
   "metadata": {
    "id": "aKLGcZ0_6iK3"
   },
   "outputs": [
    {
     "name": "stdin",
     "output_type": "stream",
     "text": [
      "Your word: Hallo\n"
     ]
    },
    {
     "name": "stdout",
     "output_type": "stream",
     "text": [
      "In reversed order:  ollaH\n"
     ]
    }
   ],
   "source": [
    "word = input(\"Your word:\")\n",
    "\n",
    "print(\"In reversed order: \",word[::-1])"
   ]
  },
  {
   "cell_type": "markdown",
   "metadata": {
    "id": "PalhJ9x36iK4"
   },
   "source": [
    "## Task 03 –  Fibonacci Numbers\n",
    "Write a program that reads in an upper bound (number) provided by the user and prints the sequence of Fibonacci numbers that are less or equal to the number given by the user. Use a while-loop for this task. \n",
    "\n",
    "The Fibonacci sequence is defined as \n",
    "$ F_{n}=F_{n−1}+F_{n−2}$. Use $F_{0}=0$ and $F_{1} = 1$ as seed values.  \n",
    "\n",
    "For example, if the user inputs 6, the output should be 0, 1, 1, 2, 3, 5. \n",
    "\n",
    "\n",
    "\n"
   ]
  },
  {
   "cell_type": "code",
   "execution_count": 3,
   "metadata": {},
   "outputs": [
    {
     "name": "stdin",
     "output_type": "stream",
     "text": [
      "upper bound: 6\n"
     ]
    },
    {
     "name": "stdout",
     "output_type": "stream",
     "text": [
      "0, 1, 1, 2, 3, 5\n"
     ]
    }
   ],
   "source": [
    "n = int(input(\"upper bound:\"))\n",
    "fib=[0,1]\n",
    "i=2\n",
    "while i<n:\n",
    "    fib.append(fib[-1]+fib[-2])\n",
    "    i+=1\n",
    "out=\"\"\n",
    "for i in fib:\n",
    "    out+=str(i)+\", \"\n",
    "out=out[:-2]\n",
    "print(out)"
   ]
  },
  {
   "cell_type": "markdown",
   "metadata": {
    "id": "JV1Mm9qA6iK5"
   },
   "source": [
    "## Task 04 – Selective Printing \n",
    "\n",
    "Write a program that reads in an upper bound (number) provided by the user and prints all integer numbers that are less or equal to the upper bound except the integer numbers that are divisible by 3. Use the continue statement. For example, if the user enters 6 as the upper bound, the output should be 0, 1, 2, 4, 5.  "
   ]
  },
  {
   "cell_type": "code",
   "execution_count": 4,
   "metadata": {
    "id": "C3i7ctus6iK6"
   },
   "outputs": [
    {
     "name": "stdin",
     "output_type": "stream",
     "text": [
      "upper bound: 6\n"
     ]
    },
    {
     "name": "stdout",
     "output_type": "stream",
     "text": [
      "0, 1, 1, 2, 3, 5\n"
     ]
    }
   ],
   "source": [
    "upper_bound = int(input(\"upper bound:\"))\n",
    "\n",
    "nums=[]\n",
    "for i in range(upper_bound + 1):\n",
    "    if i % 3 == 0 and i != 0:\n",
    "        continue\n",
    "    nums.append(i)\n",
    "    \n",
    "out=\"\"\n",
    "for i in fib:\n",
    "    out+=str(i)+\", \"\n",
    "out=out[:-2]\n",
    "print(out)"
   ]
  },
  {
   "cell_type": "markdown",
   "metadata": {
    "id": "qz4P36Lz6iK6"
   },
   "source": [
    "## Task 05 – Triangle Checking   \n",
    "\n",
    "Write a Python program that asks the user to input the lengths of the sides in a triangle and outputs whether the triangle is equilateral, isosceles, or scalene. The program should also check for the Triangle inequality $(z < x + y)$,  and prompt the user for a valid input. \n",
    "\n",
    "- An equilateral triangle is a triangle in which all three sides are of equal length. \n",
    "- An isosceles triangle is a triangle with (at least) two sides of equal length. \n",
    "- A scalene triangle is a triangle in which all three sides have different lengths. \n",
    "\n",
    "For example, if the user inputs a=3, b=4, c=5, the triangle is scalene. \n"
   ]
  },
  {
   "cell_type": "code",
   "execution_count": 5,
   "metadata": {
    "id": "2c67p_Zc6iK7"
   },
   "outputs": [
    {
     "name": "stdin",
     "output_type": "stream",
     "text": [
      "Please enter sides a, b, c: 3,3,30\n",
      "Not a valid input. Please try again: 22,22,22\n"
     ]
    },
    {
     "name": "stdout",
     "output_type": "stream",
     "text": [
      "The triangle is equiliteral\n"
     ]
    }
   ],
   "source": [
    "input_string = input(\"Please enter sides a, b, c:\")\n",
    "a, b, c = map(int, input_string.split(\",\"))\n",
    "\n",
    "while c >= a + b:\n",
    "    input_string = input(\"Not a valid input. Please try again:\")\n",
    "    a, b, c = map(int, input_string.split(\",\"))\n",
    "if a == b == c:\n",
    "    print(\"The triangle is equiliteral\")\n",
    "elif a == b or b == c or a == c:\n",
    "    print(\"The triangle is isosceles\")\n",
    "else:\n",
    "    print(\"The triangle is scalene\")\n",
    "    \n"
   ]
  },
  {
   "cell_type": "markdown",
   "metadata": {
    "id": "k1kh3odh6iK7"
   },
   "source": [
    "## Task 06 – Decimal to Octal Conversion \n",
    "\n",
    "Write a program that reads a non-negative integer number in the decimal representation provided by the user and prints the octal representation of the number. For example, if the user enters 167, the output should be 247.  \n",
    "\n",
    "Write a more general program that reads in a non-negative number (potentially including decimal places) in the decimal representation provided by the user and prints the octal representation of the number. For example, if the user enters 25.11, the output should be 31.0702436560507534."
   ]
  },
  {
   "cell_type": "code",
   "execution_count": 6,
   "metadata": {
    "id": "2-UCbTRQ6iK7"
   },
   "outputs": [
    {
     "name": "stdin",
     "output_type": "stream",
     "text": [
      "Please enter a non-negative Integer: 12\n"
     ]
    },
    {
     "name": "stdout",
     "output_type": "stream",
     "text": [
      "The octal representation of 12 is 14.\n"
     ]
    }
   ],
   "source": [
    "number = int(input(\"Please enter a non-negative Integer:\"))\n",
    "while number <= 0:\n",
    "    number = int(input(\"Please enter a non-negative Integer:\"))\n",
    "number_oct = oct(number).replace(\"0o\", \"\")\n",
    "print(f\"The octal representation of {number} is {number_oct}.\")"
   ]
  },
  {
   "cell_type": "code",
   "execution_count": 16,
   "metadata": {},
   "outputs": [
    {
     "data": {
      "text/plain": [
       "'14.24570651767635544'"
      ]
     },
     "execution_count": 16,
     "metadata": {},
     "output_type": "execute_result"
    }
   ],
   "source": [
    "\"\"\"\n",
    "This function takes any positive decimal number and returns the octal representation of that number.\n",
    "\"\"\"\n",
    "def to_octal(number):\n",
    "    integer = int(number)\n",
    "    frac = number-integer\n",
    "    res = oct(integer).replace(\"0o\", \"\") + \".\"\n",
    "    while frac != 0.0:\n",
    "        frac=float(frac*8)\n",
    "        integer = int(frac)\n",
    "        frac = frac - integer\n",
    "        res+=str(integer)\n",
    "\n",
    "    return res\n",
    "\n",
    "to_octal(12.324) # result should be 14.2457065176763554 according to https://www.rapidtables.com/convert/number/decimal-to-octal.html"
   ]
  },
  {
   "cell_type": "markdown",
   "metadata": {
    "id": "Wl9JCEYM6iK-"
   },
   "source": [
    "## Acknowledgements\n",
    "\n",
    "Redmond, Hsu, Saini, Gupta, Ramsey, Kondrich, Capoor, Cohen, Borus, Kincaid, Malik, and many others. - Stanford CS41"
   ]
  },
  {
   "cell_type": "code",
   "execution_count": null,
   "metadata": {},
   "outputs": [],
   "source": []
  }
 ],
 "metadata": {
  "colab": {
   "collapsed_sections": [],
   "provenance": []
  },
  "kernelspec": {
   "display_name": "Python 3 (ipykernel)",
   "language": "python",
   "name": "python3"
  },
  "language_info": {
   "codemirror_mode": {
    "name": "ipython",
    "version": 3
   },
   "file_extension": ".py",
   "mimetype": "text/x-python",
   "name": "python",
   "nbconvert_exporter": "python",
   "pygments_lexer": "ipython3",
   "version": "3.10.6"
  }
 },
 "nbformat": 4,
 "nbformat_minor": 4
}
